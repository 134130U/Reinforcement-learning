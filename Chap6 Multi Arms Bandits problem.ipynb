{
 "cells": [
  {
   "cell_type": "code",
   "execution_count": 1,
   "metadata": {},
   "outputs": [],
   "source": [
    "import gym_bandits\n",
    "import gym\n",
    "import numpy as np"
   ]
  },
  {
   "cell_type": "code",
   "execution_count": 2,
   "metadata": {
    "scrolled": true
   },
   "outputs": [
    {
     "name": "stderr",
     "output_type": "stream",
     "text": [
      "[2020-03-27 20:24:44,775] Making new env: BanditTenArmedGaussian-v0\n",
      "/home/aims/anaconda3/envs/universe/lib/python3.6/site-packages/gym/envs/registration.py:18: PkgResourcesDeprecationWarning: Parameters to load are deprecated.  Call .resolve and .require separately.\n",
      "  result = entry_point.load(False)\n"
     ]
    }
   ],
   "source": [
    "env = gym.make(\"BanditTenArmedGaussian-v0\")"
   ]
  },
  {
   "cell_type": "markdown",
   "metadata": {},
   "source": [
    "## The epsilon - greedy policy"
   ]
  },
  {
   "cell_type": "code",
   "execution_count": 3,
   "metadata": {},
   "outputs": [],
   "source": [
    "# Let first initialize all the variables\n",
    "\n",
    "num_rounds = 20000\n",
    "\n",
    "count = np.zeros(env.n_bandits)\n",
    "\n",
    "sum_rewards = np.zeros(env.n_bandits)\n",
    "\n",
    "Q = np.zeros(env.n_bandits)"
   ]
  },
  {
   "cell_type": "code",
   "execution_count": 4,
   "metadata": {},
   "outputs": [],
   "source": [
    "# Now we define our epsilon-greedy function\n",
    "\n",
    "def epsilon_greedy(epsilon):\n",
    "    rand = np.random.random()\n",
    "    if rand < epsilon:\n",
    "        action = env.action_space.sample()\n",
    "    else:\n",
    "        action = np.argmax(Q)\n",
    "    return action"
   ]
  },
  {
   "cell_type": "code",
   "execution_count": 5,
   "metadata": {},
   "outputs": [
    {
     "name": "stdout",
     "output_type": "stream",
     "text": [
      "The optimal arm is 4\n"
     ]
    }
   ],
   "source": [
    "# Start pulling the arm\n",
    "for i in range(num_rounds):\n",
    "    # Select the arm using epsilon greedy\n",
    "    arm = epsilon_greedy(0.5)\n",
    "    # Get the rewards\n",
    "    observation, reward, done, info = env.step(arm)\n",
    "    # Update the count of that arm\n",
    "    count[arm] +=1 \n",
    "    #Sum the rewards obtained from that arm\n",
    "    sum_rewards[arm] +=reward\n",
    "    #Calculate the Q value which is the average rewards of the arm\n",
    "    Q[arm] = sum_rewards[arm]/count[arm]\n",
    "print('The optimal arm is {}'.format(np.argmax(Q)))"
   ]
  },
  {
   "cell_type": "markdown",
   "metadata": {},
   "source": [
    "## The Softmax exploration algorithm\n",
    "\n",
    "in this softmax algorithm we must specify the value of the temparature factor noted as $\\tau$. It specifies how many random arms we can explore. When $\\tau$ is high, all the arms will be explored equally, but when it is low, only high-rewardin arms will be chosen."
   ]
  },
  {
   "cell_type": "code",
   "execution_count": 6,
   "metadata": {},
   "outputs": [],
   "source": [
    "# Let first initialize all the variables\n",
    "\n",
    "num_rounds = 20000\n",
    "\n",
    "count = np.zeros(env.n_bandits)\n",
    "\n",
    "sum_rewards = np.zeros(env.n_bandits)\n",
    "\n",
    "Q = np.zeros(env.n_bandits)"
   ]
  },
  {
   "cell_type": "code",
   "execution_count": 7,
   "metadata": {},
   "outputs": [],
   "source": [
    "# Now we define the softmax algorithm\n",
    "\n",
    "def softmax(tau):\n",
    "    total = sum([np.exp(val/tau) for val in Q])\n",
    "    probs = [np.exp(val/tau)/total for val in Q]\n",
    "    threshold = np.random.random()\n",
    "    cumulative_prob = 0.0\n",
    "    for i in range(len(probs)):\n",
    "        cumulative_prob += probs[i]\n",
    "        if (cumulative_prob > threshold):\n",
    "            return i\n",
    "    return np.argmax(probs)"
   ]
  },
  {
   "cell_type": "code",
   "execution_count": 8,
   "metadata": {},
   "outputs": [
    {
     "name": "stdout",
     "output_type": "stream",
     "text": [
      "The optimal arm is 4\n"
     ]
    }
   ],
   "source": [
    "# Start pulling the arm\n",
    "for i in range(num_rounds):\n",
    "    # Select the arm using softmax\n",
    "    arm = softmax(0.5)\n",
    "    # Get the rewards\n",
    "    observation, reward, done, info = env.step(arm)\n",
    "    # Update the count of that arm\n",
    "    count[arm] +=1 \n",
    "    #Sum the rewards obtained from that arm\n",
    "    sum_rewards[arm] +=reward\n",
    "    #Calculate the Q value which is the average rewards of the arm\n",
    "    Q[arm] = sum_rewards[arm]/count[arm]\n",
    "print('The optimal arm is {}'.format(np.argmax(Q)))"
   ]
  },
  {
   "cell_type": "markdown",
   "metadata": {},
   "source": [
    "## The upper confidence bound algorithm"
   ]
  },
  {
   "cell_type": "code",
   "execution_count": 9,
   "metadata": {},
   "outputs": [],
   "source": [
    "# Let first initialize all the variables\n",
    "\n",
    "num_rounds = 20000\n",
    "\n",
    "count = np.zeros(env.n_bandits)\n",
    "\n",
    "sum_rewards = np.zeros(env.n_bandits)\n",
    "\n",
    "Q = np.zeros(env.n_bandits)"
   ]
  },
  {
   "cell_type": "code",
   "execution_count": 10,
   "metadata": {},
   "outputs": [],
   "source": [
    "def UCB(iters):\n",
    "    ucb = np.zeros(env.n_bandits)\n",
    "    #let's explore all the arms\n",
    "    if iters <env.n_bandits:\n",
    "        return iters\n",
    "    else:\n",
    "        for arm in range(env.n_bandits):\n",
    "            #compute the upper bound\n",
    "            upper_bound = np.sqrt(2*np.log(sum(count))/count[arm])\n",
    "            ucb[arm] = Q[arm] + upper_bound\n",
    "        #return the arm which has maximum value\n",
    "        return np.argmax(ucb)"
   ]
  },
  {
   "cell_type": "code",
   "execution_count": 11,
   "metadata": {},
   "outputs": [
    {
     "name": "stdout",
     "output_type": "stream",
     "text": [
      "The optimal arm is 4\n"
     ]
    }
   ],
   "source": [
    "# Start pulling the arm\n",
    "for i in range(num_rounds):\n",
    "    # Select the arm using UCB\n",
    "    arm = UCB(i)\n",
    "    # Get the rewards\n",
    "    observation, reward, done, info = env.step(arm)\n",
    "    # Update the count of that arm\n",
    "    count[arm] +=1 \n",
    "    #Sum the rewards obtained from that arm\n",
    "    sum_rewards[arm] +=reward\n",
    "    #Calculate the Q value which is the average rewards of the arm\n",
    "    Q[arm] = sum_rewards[arm]/count[arm]\n",
    "print('The optimal arm is {}'.format(np.argmax(Q))) "
   ]
  },
  {
   "cell_type": "markdown",
   "metadata": {},
   "source": [
    "## Thompson sampling algorithm"
   ]
  },
  {
   "cell_type": "code",
   "execution_count": 12,
   "metadata": {},
   "outputs": [],
   "source": [
    "# Let first initialize all the variables\n",
    "\n",
    "num_rounds = 20000\n",
    "\n",
    "count = np.zeros(env.n_bandits)\n",
    "\n",
    "sum_rewards = np.zeros(env.n_bandits)\n",
    "\n",
    "Q = np.zeros(env.n_bandits)\n",
    "\n",
    "# Initialize alpha and beta values\n",
    "\n",
    "alpha = np.ones(env.n_bandits)\n",
    "beta = np.ones(env.n_bandits)"
   ]
  },
  {
   "cell_type": "code",
   "execution_count": 13,
   "metadata": {},
   "outputs": [],
   "source": [
    "def thompson_sampling(alpha,beta):\n",
    "    samples = [np.random.beta(alpha[i]+1,beta[i]+1) for i in range(env.n_bandits)]\n",
    "    return np.argmax(samples)"
   ]
  },
  {
   "cell_type": "code",
   "execution_count": 14,
   "metadata": {},
   "outputs": [
    {
     "name": "stdout",
     "output_type": "stream",
     "text": [
      "The optimal arm is 4\n"
     ]
    }
   ],
   "source": [
    "# Start pulling the arm\n",
    "for i in range(num_rounds):\n",
    "    # Select the arm using thompson sampling\n",
    "    arm = thompson_sampling(alpha,beta)\n",
    "    # Get the rewards\n",
    "    observation, reward, done, info = env.step(arm)\n",
    "    # Update the count of that arm\n",
    "    count[arm] +=1 \n",
    "    #Sum the rewards obtained from that arm\n",
    "    sum_rewards[arm] +=reward\n",
    "    #Calculate the Q value which is the average rewards of the arm\n",
    "    Q[arm] = sum_rewards[arm]/count[arm]\n",
    "    \n",
    "    if reward>0:\n",
    "        alpha[arm] +=1\n",
    "    else:\n",
    "        beta[arm] +=1\n",
    "print('The optimal arm is {}'.format(np.argmax(Q)))"
   ]
  },
  {
   "cell_type": "markdown",
   "metadata": {},
   "source": [
    "# Application of MAB"
   ]
  },
  {
   "cell_type": "markdown",
   "metadata": {},
   "source": [
    "## Identifying the right advertisement banner using MAB\n",
    "\n",
    "Let us say you are running a website and you have five different banners for the same ad,\n",
    "and you want to know which banner attracts the user. We model this problem statement as\n",
    "a bandit problem. Let us say these five banners are the five arms of the bandit and we\n",
    "award one point if the user clicks the ad and award zero if the user does not click the ad."
   ]
  },
  {
   "cell_type": "code",
   "execution_count": 15,
   "metadata": {},
   "outputs": [],
   "source": [
    "import pandas as pd\n",
    "import matplotlib.pyplot as plt\n",
    "import seaborn as sns\n",
    "%matplotlib inline"
   ]
  },
  {
   "cell_type": "code",
   "execution_count": 16,
   "metadata": {},
   "outputs": [],
   "source": [
    "df = pd.DataFrame()\n",
    "df['Banner_0'] = np.random.randint(0,2,100000)\n",
    "df['Banner_1'] = np.random.randint(0,2,100000)\n",
    "df['Banner_2'] = np.random.randint(0,2,100000)\n",
    "df['Banner_3'] = np.random.randint(0,2,100000)\n",
    "df['Banner_4'] = np.random.randint(0,2,100000)"
   ]
  },
  {
   "cell_type": "code",
   "execution_count": 17,
   "metadata": {},
   "outputs": [
    {
     "name": "stdout",
     "output_type": "stream",
     "text": [
      "(100000, 5)\n"
     ]
    },
    {
     "data": {
      "text/html": [
       "<div>\n",
       "<style scoped>\n",
       "    .dataframe tbody tr th:only-of-type {\n",
       "        vertical-align: middle;\n",
       "    }\n",
       "\n",
       "    .dataframe tbody tr th {\n",
       "        vertical-align: top;\n",
       "    }\n",
       "\n",
       "    .dataframe thead th {\n",
       "        text-align: right;\n",
       "    }\n",
       "</style>\n",
       "<table border=\"1\" class=\"dataframe\">\n",
       "  <thead>\n",
       "    <tr style=\"text-align: right;\">\n",
       "      <th></th>\n",
       "      <th>Banner_0</th>\n",
       "      <th>Banner_1</th>\n",
       "      <th>Banner_2</th>\n",
       "      <th>Banner_3</th>\n",
       "      <th>Banner_4</th>\n",
       "    </tr>\n",
       "  </thead>\n",
       "  <tbody>\n",
       "    <tr>\n",
       "      <td>0</td>\n",
       "      <td>0</td>\n",
       "      <td>0</td>\n",
       "      <td>1</td>\n",
       "      <td>0</td>\n",
       "      <td>1</td>\n",
       "    </tr>\n",
       "    <tr>\n",
       "      <td>1</td>\n",
       "      <td>0</td>\n",
       "      <td>0</td>\n",
       "      <td>0</td>\n",
       "      <td>0</td>\n",
       "      <td>0</td>\n",
       "    </tr>\n",
       "    <tr>\n",
       "      <td>2</td>\n",
       "      <td>0</td>\n",
       "      <td>1</td>\n",
       "      <td>1</td>\n",
       "      <td>1</td>\n",
       "      <td>1</td>\n",
       "    </tr>\n",
       "    <tr>\n",
       "      <td>3</td>\n",
       "      <td>1</td>\n",
       "      <td>1</td>\n",
       "      <td>1</td>\n",
       "      <td>1</td>\n",
       "      <td>0</td>\n",
       "    </tr>\n",
       "    <tr>\n",
       "      <td>4</td>\n",
       "      <td>1</td>\n",
       "      <td>1</td>\n",
       "      <td>0</td>\n",
       "      <td>0</td>\n",
       "      <td>0</td>\n",
       "    </tr>\n",
       "  </tbody>\n",
       "</table>\n",
       "</div>"
      ],
      "text/plain": [
       "   Banner_0  Banner_1  Banner_2  Banner_3  Banner_4\n",
       "0         0         0         1         0         1\n",
       "1         0         0         0         0         0\n",
       "2         0         1         1         1         1\n",
       "3         1         1         1         1         0\n",
       "4         1         1         0         0         0"
      ]
     },
     "execution_count": 17,
     "metadata": {},
     "output_type": "execute_result"
    }
   ],
   "source": [
    "print(df.shape)\n",
    "df.head()\n"
   ]
  },
  {
   "cell_type": "code",
   "execution_count": 18,
   "metadata": {},
   "outputs": [],
   "source": [
    "# Let first initialize all the variables\n",
    "\n",
    "num_banner = 5\n",
    "\n",
    "no_of_iterations = 100000\n",
    "\n",
    "banner_selected = []\n",
    "\n",
    "count = np.zeros(num_banner)\n",
    "\n",
    "sum_rewards = np.zeros(env.n_bandits)\n",
    "\n",
    "Q = np.zeros(env.n_bandits)"
   ]
  },
  {
   "cell_type": "code",
   "execution_count": 19,
   "metadata": {},
   "outputs": [],
   "source": [
    "def epsilon_greedy(epsilon):\n",
    "    rand = np.random.random()\n",
    "    if rand < epsilon:\n",
    "        action = np.random.choice(num_banner)\n",
    "    else:\n",
    "        action = np.argmax(Q)\n",
    "    return action"
   ]
  },
  {
   "cell_type": "code",
   "execution_count": 20,
   "metadata": {},
   "outputs": [
    {
     "data": {
      "text/plain": [
       "<matplotlib.axes._subplots.AxesSubplot at 0x7fde663e0048>"
      ]
     },
     "execution_count": 20,
     "metadata": {},
     "output_type": "execute_result"
    },
    {
     "data": {
      "image/png": "[encoded data removed]",
      "text/plain": [
       "<Figure size 432x288 with 1 Axes>"
      ]
     },
     "metadata": {
      "needs_background": "light"
     },
     "output_type": "display_data"
    }
   ],
   "source": [
    "# Start pulling the arm\n",
    "for i in range(no_of_iterations):\n",
    "    # Select the arm using epsilon greedy\n",
    "    banner = epsilon_greedy(0.5)\n",
    "    # Get the rewards\n",
    "    reward = df.values[i,banner]\n",
    "    # Update the count of that arm\n",
    "    count[banner] +=1 \n",
    "    #Sum the rewards obtained from that arm\n",
    "    sum_rewards[banner] +=reward\n",
    "    #Calculate the Q value which is the average rewards of the arm\n",
    "    Q[banner] = sum_rewards[banner]/count[banner]\n",
    "    banner_selected.append(banner)\n",
    "sns.distplot(banner_selected)"
   ]
  },
  {
   "cell_type": "code",
   "execution_count": null,
   "metadata": {},
   "outputs": [],
   "source": []
  },
  {
   "cell_type": "code",
   "execution_count": null,
   "metadata": {},
   "outputs": [],
   "source": []
  }
 ],
 "metadata": {
  "kernelspec": {
   "display_name": "Python 3",
   "language": "python",
   "name": "python3"
  },
  "language_info": {
   "codemirror_mode": {
    "name": "ipython",
    "version": 3
   },
   "file_extension": ".py",
   "mimetype": "text/x-python",
   "name": "python",
   "nbconvert_exporter": "python",
   "pygments_lexer": "ipython3",
   "version": "3.6.10"
  }
 },
 "nbformat": 4,
 "nbformat_minor": 2
}
